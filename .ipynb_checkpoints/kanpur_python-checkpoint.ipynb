{
 "cells": [
  {
   "cell_type": "markdown",
   "metadata": {},
   "source": [
    "<center><img src = \"kanpur python.png\" alt = \"Kanpur Python logo\" hieght=\"200\" width = \"200\"></img></center>"
   ]
  },
  {
   "cell_type": "markdown",
   "metadata": {},
   "source": [
    "<font size=\"5\"> <center>from **Kanpur_Python_Users_Group** import **About** </center> </font>"
   ]
  },
  {
   "cell_type": "markdown",
   "metadata": {},
   "source": [
    "<center><font size=\"4\"> ** Kanpur Python Users Group is an Awesome community of students and professionals who loves to use Python and are always ready to help people getting started with Python ** </font></center>"
   ]
  },
  {
   "cell_type": "markdown",
   "metadata": {},
   "source": [
    "<center> <font size=\"5\"> from <b>Kanpur_Python_Users_Group</b> import <b>Connect</b> </font> </center>"
   ]
  },
  {
   "cell_type": "markdown",
   "metadata": {},
   "source": [
    "<center> <font size=\"4\"><a href=\"https://twitter.com/PythonKanpur\"> **Twitter** </a>&nbsp; <a href=\"https://www.facebook.com/KanpurPython/\"> **Facebook** </a>&nbsp; <a href=\"https://www.meetup.com/KanpurPython/\"> **Meetup** </a>&nbsp;<a href = \"https://kanpurpython.wordpress.com/\"> **Blog** </a> </font></center>"
   ]
  }
 ],
 "metadata": {
  "kernelspec": {
   "display_name": "Python 3",
   "language": "python",
   "name": "python3"
  },
  "language_info": {
   "codemirror_mode": {
    "name": "ipython",
    "version": 3
   },
   "file_extension": ".py",
   "mimetype": "text/x-python",
   "name": "python",
   "nbconvert_exporter": "python",
   "pygments_lexer": "ipython3",
   "version": "3.6.1"
  }
 },
 "nbformat": 4,
 "nbformat_minor": 2
}
